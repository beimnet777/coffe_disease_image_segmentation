{
  "nbformat": 4,
  "nbformat_minor": 0,
  "metadata": {
    "colab": {
      "provenance": [],
      "mount_file_id": "1FpwU1HIOdg6LLU4foHRtB1DNjY0IV0Kc",
      "authorship_tag": "ABX9TyNEbQbsFXLlEwTjOF0oDfzb",
      "include_colab_link": true
    },
    "kernelspec": {
      "name": "python3",
      "display_name": "Python 3"
    },
    "language_info": {
      "name": "python"
    }
  },
  "cells": [
    {
      "cell_type": "markdown",
      "metadata": {
        "id": "view-in-github",
        "colab_type": "text"
      },
      "source": [
        "<a href=\"https://colab.research.google.com/github/beimnet777/coffee_disease_image_segmentation/blob/main/Creat_leaf_mask.ipynb\" target=\"_parent\"><img src=\"https://colab.research.google.com/assets/colab-badge.svg\" alt=\"Open In Colab\"/></a>"
      ]
    },
    {
      "cell_type": "code",
      "source": [
        "import os\n",
        "import tensorflow as tf\n",
        "import cv2\n",
        "import numpy as np"
      ],
      "metadata": {
        "id": "UQfLpBE0UHyd"
      },
      "execution_count": 1,
      "outputs": []
    },
    {
      "cell_type": "code",
      "source": [],
      "metadata": {
        "id": "D3MysQi6UcDR"
      },
      "execution_count": 4,
      "outputs": []
    },
    {
      "cell_type": "code",
      "execution_count": 14,
      "metadata": {
        "id": "yju1AMaaNCoe"
      },
      "outputs": [],
      "source": [
        "class LeafMask:\n",
        "\n",
        "  def __init__(self,path):\n",
        "    self.path=path\n",
        "    self.model=None\n",
        "\n",
        "    if os.path.exists(self.path):\n",
        "      try:\n",
        "        self.model=tf.keras.models.load_model(path,compile=False)\n",
        "\n",
        "      except :\n",
        "        raise Exception(\"Couldn't load model properly. pleas check the path you provided \")\n",
        "\n",
        "    else:\n",
        "      raise Exception(\"Sorry, file doesn't exists\")\n",
        "\n",
        "\n",
        "  def segmentLeafImage(self,image_path):\n",
        "    if os.path.exists(image_path):\n",
        "      try:\n",
        "        img=cv2.imread(image_path)\n",
        "        img = cv2.rotate(img, cv2.ROTATE_90_CLOCKWISE)\n",
        "        img=cv2.resize(img, (512, 256))\n",
        "\n",
        "        img=np.expand_dims(img,axis=0)\n",
        "        prediction=self.model.predict(img)\n",
        "\n",
        "        return prediction[0]\n",
        "\n",
        "      except Exception as e:\n",
        "        raise print(e)\n",
        "        \n",
        "    else:\n",
        "      raise Exception(\"Sorry, file doesn't exists\")\n",
        "\n",
        "  def segmentLeafFolder(self,folder_path):\n",
        "    try:\n",
        "      data=[]\n",
        "\n",
        "      for root,dir,files in os.walk(folder_path):\n",
        "        for file in files:\n",
        "          file_extension=file.split(\".\")[1]\n",
        "\n",
        "          if file_extension==\"jpg\" or file_extension==\"png\" or file_extension==\"jpeg\":\n",
        "            path=os.path.join(folder_path,file)\n",
        "\n",
        "            img=cv2.imread(path)\n",
        "            img = cv2.rotate(img, cv2.ROTATE_90_CLOCKWISE)\n",
        "            img=cv2.resize(img, (512, 256))\n",
        "\n",
        "            data.append(img)\n",
        "\n",
        "      data=np.array(data)\n",
        "      prediction=self.model.predict(data)\n",
        "      return prediction\n",
        "      \n",
        "    except Exception as e:\n",
        "      print(e)\n"
      ]
    },
    {
      "cell_type": "code",
      "source": [
        "model=LeafMask(\"/content/drive/MyDrive/leaf_segmentation.h5\")"
      ],
      "metadata": {
        "id": "dAOhXfhzUlbx"
      },
      "execution_count": 15,
      "outputs": []
    },
    {
      "cell_type": "code",
      "source": [
        "prediction=model.segmentLeafFolder(\"/content/drive/MyDrive/coffee_test_annotations/coffee_test_annotations/\")"
      ],
      "metadata": {
        "colab": {
          "base_uri": "https://localhost:8080/"
        },
        "id": "GzHI4marVG5E",
        "outputId": "961deaf4-6be8-4818-d6eb-77fb093c6ea9"
      },
      "execution_count": 16,
      "outputs": [
        {
          "output_type": "stream",
          "name": "stdout",
          "text": [
            "2/2 [==============================] - 44s 16s/step\n"
          ]
        }
      ]
    },
    {
      "cell_type": "code",
      "source": [
        "from google.colab.patches import cv2_imshow"
      ],
      "metadata": {
        "id": "LEMDpMkLVbKX"
      },
      "execution_count": 19,
      "outputs": []
    }
  ]
}