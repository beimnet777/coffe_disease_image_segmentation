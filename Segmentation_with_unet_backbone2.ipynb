{
  "nbformat": 4,
  "nbformat_minor": 0,
  "metadata": {
    "colab": {
      "provenance": [],
      "include_colab_link": true
    },
    "kernelspec": {
      "name": "python3",
      "display_name": "Python 3"
    },
    "language_info": {
      "name": "python"
    },
    "accelerator": "GPU",
    "gpuClass": "standard"
  },
  "cells": [
    {
      "cell_type": "markdown",
      "metadata": {
        "id": "view-in-github",
        "colab_type": "text"
      },
      "source": [
        "<a href=\"https://colab.research.google.com/github/beimnet777/coffee_disease_image_segmentation/blob/main/Segmentation_with_unet_backbone2.ipynb\" target=\"_parent\"><img src=\"https://colab.research.google.com/assets/colab-badge.svg\" alt=\"Open In Colab\"/></a>"
      ]
    },
    {
      "cell_type": "code",
      "source": [
        "import tensorflow as tf\n",
        "import numpy as np\n",
        "import os\n",
        "from matplotlib import pyplot as plt"
      ],
      "metadata": {
        "id": "9rbZammzG0JR"
      },
      "execution_count": null,
      "outputs": []
    },
    {
      "cell_type": "code",
      "source": [
        "import cv2"
      ],
      "metadata": {
        "id": "QxQqnHJAdCuR"
      },
      "execution_count": null,
      "outputs": []
    },
    {
      "cell_type": "code",
      "source": [
        "os.environ[\"SM_FRAMEWORK\"] = \"tf.keras\""
      ],
      "metadata": {
        "id": "f96tLTG9DvhB"
      },
      "execution_count": null,
      "outputs": []
    },
    {
      "cell_type": "code",
      "source": [
        "!pip install -U -q segmentation-models"
      ],
      "metadata": {
        "id": "TtDSH8jREHBM"
      },
      "execution_count": null,
      "outputs": []
    },
    {
      "cell_type": "code",
      "source": [
        "import segmentation_models as sm"
      ],
      "metadata": {
        "colab": {
          "base_uri": "https://localhost:8080/"
        },
        "id": "BV2bzV8EJtOE",
        "outputId": "be4f0f79-14a4-4706-f302-f4ff498bafca"
      },
      "execution_count": null,
      "outputs": [
        {
          "output_type": "stream",
          "name": "stdout",
          "text": [
            "Segmentation Models: using `tf.keras` framework.\n"
          ]
        }
      ]
    },
    {
      "cell_type": "code",
      "source": [
        "from google.colab.patches import cv2_imshow"
      ],
      "metadata": {
        "id": "9TrWS-s0he7K"
      },
      "execution_count": null,
      "outputs": []
    },
    {
      "cell_type": "code",
      "source": [
        "def change_mask_to_bw(path):\n",
        "  img = cv2.imread(path)\n",
        "  gray_image = cv2.cvtColor(img, cv2.COLOR_BGR2GRAY)\n",
        "  (thresh, im_bw) = cv2.threshold(gray_image, 128, 255, cv2.THRESH_BINARY | cv2.THRESH_OTSU)\n",
        "  return im_bw"
      ],
      "metadata": {
        "id": "bDYLjN_6c7-F"
      },
      "execution_count": null,
      "outputs": []
    },
    {
      "cell_type": "code",
      "source": [
        "def prepare_dataset(width,height,X_path,Y_path=None):\n",
        "  for (root ,dirs,files) in os.walk(X_path):\n",
        "\n",
        "    X=np.zeros((len(files),height,width,3),dtype=np.float32)\n",
        "    y=np.zeros((len(files),height,width,1),dtype=np.float32)\n",
        "\n",
        "    index=0\n",
        "    for file in files:\n",
        "      image_num=file.split(\".\")[0]\n",
        "      image_y_name=image_num+\"_mask.png\"\n",
        "      path_x=os.path.join(X_path,file)\n",
        "\n",
        "      if Y_path:\n",
        "        path_y=os.path.join(Y_path,image_y_name)\n",
        "        img_y=change_mask_to_bw(path_y)\n",
        "        img_y=cv2.resize(img_y, (width, height))\n",
        "        img_y=np.expand_dims(img_y,axis=-1)\n",
        "        y[index]=img_y.astype(np.float32)\n",
        "\n",
        "\n",
        "      img_x=cv2.imread(path_x)\n",
        "      img_x=cv2.resize(img_x, (width, height))\n",
        "      X[index]=img_x.astype(np.float32)\n",
        "\n",
        "      index+=1\n",
        "  \n",
        "  return X,y"
      ],
      "metadata": {
        "id": "EFDzueQ7c0E-"
      },
      "execution_count": null,
      "outputs": []
    },
    {
      "cell_type": "code",
      "source": [
        "train=prepare_dataset(512,256,\"/content/drive/MyDrive/images/train\",\"/content/drive/MyDrive/annotations/train\")\n",
        "test=prepare_dataset(512,256,\"/content/drive/MyDrive/images/test\",\"/content/drive/MyDrive/annotations/test\")\n",
        "val=prepare_dataset(512,256,\"/content/drive/MyDrive/images/val\",\"/content/drive/MyDrive/annotations/val\")\n",
        "     "
      ],
      "metadata": {
        "id": "AVPp1sK4g-X-"
      },
      "execution_count": null,
      "outputs": []
    },
    {
      "cell_type": "code",
      "source": [
        "# define model\n",
        "model = sm.Unet(\"resnet34\", encoder_weights='imagenet',input_shape=(256,512,3))\n",
        "model.compile('Adam', loss=sm.losses.bce_jaccard_loss, metrics=[sm.metrics.iou_score])\n",
        "model.summary()"
      ],
      "metadata": {
        "colab": {
          "base_uri": "https://localhost:8080/"
        },
        "id": "vMsXhXU2hyhg",
        "outputId": "cb736330-5d92-47e3-9105-9b13ccbc9993"
      },
      "execution_count": null,
      "outputs": [
        {
          "output_type": "stream",
          "name": "stdout",
          "text": [
            "Model: \"model_7\"\n",
            "__________________________________________________________________________________________________\n",
            " Layer (type)                   Output Shape         Param #     Connected to                     \n",
            "==================================================================================================\n",
            " data (InputLayer)              [(None, 256, 512, 3  0           []                               \n",
            "                                )]                                                                \n",
            "                                                                                                  \n",
            " bn_data (BatchNormalization)   (None, 256, 512, 3)  9           ['data[0][0]']                   \n",
            "                                                                                                  \n",
            " zero_padding2d_102 (ZeroPaddin  (None, 262, 518, 3)  0          ['bn_data[0][0]']                \n",
            " g2D)                                                                                             \n",
            "                                                                                                  \n",
            " conv0 (Conv2D)                 (None, 128, 256, 64  9408        ['zero_padding2d_102[0][0]']     \n",
            "                                )                                                                 \n",
            "                                                                                                  \n",
            " bn0 (BatchNormalization)       (None, 128, 256, 64  256         ['conv0[0][0]']                  \n",
            "                                )                                                                 \n",
            "                                                                                                  \n",
            " relu0 (Activation)             (None, 128, 256, 64  0           ['bn0[0][0]']                    \n",
            "                                )                                                                 \n",
            "                                                                                                  \n",
            " zero_padding2d_103 (ZeroPaddin  (None, 130, 258, 64  0          ['relu0[0][0]']                  \n",
            " g2D)                           )                                                                 \n",
            "                                                                                                  \n",
            " pooling0 (MaxPooling2D)        (None, 64, 128, 64)  0           ['zero_padding2d_103[0][0]']     \n",
            "                                                                                                  \n",
            " stage1_unit1_bn1 (BatchNormali  (None, 64, 128, 64)  256        ['pooling0[0][0]']               \n",
            " zation)                                                                                          \n",
            "                                                                                                  \n",
            " stage1_unit1_relu1 (Activation  (None, 64, 128, 64)  0          ['stage1_unit1_bn1[0][0]']       \n",
            " )                                                                                                \n",
            "                                                                                                  \n",
            " zero_padding2d_104 (ZeroPaddin  (None, 66, 130, 64)  0          ['stage1_unit1_relu1[0][0]']     \n",
            " g2D)                                                                                             \n",
            "                                                                                                  \n",
            " stage1_unit1_conv1 (Conv2D)    (None, 64, 128, 64)  36864       ['zero_padding2d_104[0][0]']     \n",
            "                                                                                                  \n",
            " stage1_unit1_bn2 (BatchNormali  (None, 64, 128, 64)  256        ['stage1_unit1_conv1[0][0]']     \n",
            " zation)                                                                                          \n",
            "                                                                                                  \n",
            " stage1_unit1_relu2 (Activation  (None, 64, 128, 64)  0          ['stage1_unit1_bn2[0][0]']       \n",
            " )                                                                                                \n",
            "                                                                                                  \n",
            " zero_padding2d_105 (ZeroPaddin  (None, 66, 130, 64)  0          ['stage1_unit1_relu2[0][0]']     \n",
            " g2D)                                                                                             \n",
            "                                                                                                  \n",
            " stage1_unit1_conv2 (Conv2D)    (None, 64, 128, 64)  36864       ['zero_padding2d_105[0][0]']     \n",
            "                                                                                                  \n",
            " stage1_unit1_sc (Conv2D)       (None, 64, 128, 64)  4096        ['stage1_unit1_relu1[0][0]']     \n",
            "                                                                                                  \n",
            " add_48 (Add)                   (None, 64, 128, 64)  0           ['stage1_unit1_conv2[0][0]',     \n",
            "                                                                  'stage1_unit1_sc[0][0]']        \n",
            "                                                                                                  \n",
            " stage1_unit2_bn1 (BatchNormali  (None, 64, 128, 64)  256        ['add_48[0][0]']                 \n",
            " zation)                                                                                          \n",
            "                                                                                                  \n",
            " stage1_unit2_relu1 (Activation  (None, 64, 128, 64)  0          ['stage1_unit2_bn1[0][0]']       \n",
            " )                                                                                                \n",
            "                                                                                                  \n",
            " zero_padding2d_106 (ZeroPaddin  (None, 66, 130, 64)  0          ['stage1_unit2_relu1[0][0]']     \n",
            " g2D)                                                                                             \n",
            "                                                                                                  \n",
            " stage1_unit2_conv1 (Conv2D)    (None, 64, 128, 64)  36864       ['zero_padding2d_106[0][0]']     \n",
            "                                                                                                  \n",
            " stage1_unit2_bn2 (BatchNormali  (None, 64, 128, 64)  256        ['stage1_unit2_conv1[0][0]']     \n",
            " zation)                                                                                          \n",
            "                                                                                                  \n",
            " stage1_unit2_relu2 (Activation  (None, 64, 128, 64)  0          ['stage1_unit2_bn2[0][0]']       \n",
            " )                                                                                                \n",
            "                                                                                                  \n",
            " zero_padding2d_107 (ZeroPaddin  (None, 66, 130, 64)  0          ['stage1_unit2_relu2[0][0]']     \n",
            " g2D)                                                                                             \n",
            "                                                                                                  \n",
            " stage1_unit2_conv2 (Conv2D)    (None, 64, 128, 64)  36864       ['zero_padding2d_107[0][0]']     \n",
            "                                                                                                  \n",
            " add_49 (Add)                   (None, 64, 128, 64)  0           ['stage1_unit2_conv2[0][0]',     \n",
            "                                                                  'add_48[0][0]']                 \n",
            "                                                                                                  \n",
            " stage1_unit3_bn1 (BatchNormali  (None, 64, 128, 64)  256        ['add_49[0][0]']                 \n",
            " zation)                                                                                          \n",
            "                                                                                                  \n",
            " stage1_unit3_relu1 (Activation  (None, 64, 128, 64)  0          ['stage1_unit3_bn1[0][0]']       \n",
            " )                                                                                                \n",
            "                                                                                                  \n",
            " zero_padding2d_108 (ZeroPaddin  (None, 66, 130, 64)  0          ['stage1_unit3_relu1[0][0]']     \n",
            " g2D)                                                                                             \n",
            "                                                                                                  \n",
            " stage1_unit3_conv1 (Conv2D)    (None, 64, 128, 64)  36864       ['zero_padding2d_108[0][0]']     \n",
            "                                                                                                  \n",
            " stage1_unit3_bn2 (BatchNormali  (None, 64, 128, 64)  256        ['stage1_unit3_conv1[0][0]']     \n",
            " zation)                                                                                          \n",
            "                                                                                                  \n",
            " stage1_unit3_relu2 (Activation  (None, 64, 128, 64)  0          ['stage1_unit3_bn2[0][0]']       \n",
            " )                                                                                                \n",
            "                                                                                                  \n",
            " zero_padding2d_109 (ZeroPaddin  (None, 66, 130, 64)  0          ['stage1_unit3_relu2[0][0]']     \n",
            " g2D)                                                                                             \n",
            "                                                                                                  \n",
            " stage1_unit3_conv2 (Conv2D)    (None, 64, 128, 64)  36864       ['zero_padding2d_109[0][0]']     \n",
            "                                                                                                  \n",
            " add_50 (Add)                   (None, 64, 128, 64)  0           ['stage1_unit3_conv2[0][0]',     \n",
            "                                                                  'add_49[0][0]']                 \n",
            "                                                                                                  \n",
            " stage2_unit1_bn1 (BatchNormali  (None, 64, 128, 64)  256        ['add_50[0][0]']                 \n",
            " zation)                                                                                          \n",
            "                                                                                                  \n",
            " stage2_unit1_relu1 (Activation  (None, 64, 128, 64)  0          ['stage2_unit1_bn1[0][0]']       \n",
            " )                                                                                                \n",
            "                                                                                                  \n",
            " zero_padding2d_110 (ZeroPaddin  (None, 66, 130, 64)  0          ['stage2_unit1_relu1[0][0]']     \n",
            " g2D)                                                                                             \n",
            "                                                                                                  \n",
            " stage2_unit1_conv1 (Conv2D)    (None, 32, 64, 128)  73728       ['zero_padding2d_110[0][0]']     \n",
            "                                                                                                  \n",
            " stage2_unit1_bn2 (BatchNormali  (None, 32, 64, 128)  512        ['stage2_unit1_conv1[0][0]']     \n",
            " zation)                                                                                          \n",
            "                                                                                                  \n",
            " stage2_unit1_relu2 (Activation  (None, 32, 64, 128)  0          ['stage2_unit1_bn2[0][0]']       \n",
            " )                                                                                                \n",
            "                                                                                                  \n",
            " zero_padding2d_111 (ZeroPaddin  (None, 34, 66, 128)  0          ['stage2_unit1_relu2[0][0]']     \n",
            " g2D)                                                                                             \n",
            "                                                                                                  \n",
            " stage2_unit1_conv2 (Conv2D)    (None, 32, 64, 128)  147456      ['zero_padding2d_111[0][0]']     \n",
            "                                                                                                  \n",
            " stage2_unit1_sc (Conv2D)       (None, 32, 64, 128)  8192        ['stage2_unit1_relu1[0][0]']     \n",
            "                                                                                                  \n",
            " add_51 (Add)                   (None, 32, 64, 128)  0           ['stage2_unit1_conv2[0][0]',     \n",
            "                                                                  'stage2_unit1_sc[0][0]']        \n",
            "                                                                                                  \n",
            " stage2_unit2_bn1 (BatchNormali  (None, 32, 64, 128)  512        ['add_51[0][0]']                 \n",
            " zation)                                                                                          \n",
            "                                                                                                  \n",
            " stage2_unit2_relu1 (Activation  (None, 32, 64, 128)  0          ['stage2_unit2_bn1[0][0]']       \n",
            " )                                                                                                \n",
            "                                                                                                  \n",
            " zero_padding2d_112 (ZeroPaddin  (None, 34, 66, 128)  0          ['stage2_unit2_relu1[0][0]']     \n",
            " g2D)                                                                                             \n",
            "                                                                                                  \n",
            " stage2_unit2_conv1 (Conv2D)    (None, 32, 64, 128)  147456      ['zero_padding2d_112[0][0]']     \n",
            "                                                                                                  \n",
            " stage2_unit2_bn2 (BatchNormali  (None, 32, 64, 128)  512        ['stage2_unit2_conv1[0][0]']     \n",
            " zation)                                                                                          \n",
            "                                                                                                  \n",
            " stage2_unit2_relu2 (Activation  (None, 32, 64, 128)  0          ['stage2_unit2_bn2[0][0]']       \n",
            " )                                                                                                \n",
            "                                                                                                  \n",
            " zero_padding2d_113 (ZeroPaddin  (None, 34, 66, 128)  0          ['stage2_unit2_relu2[0][0]']     \n",
            " g2D)                                                                                             \n",
            "                                                                                                  \n",
            " stage2_unit2_conv2 (Conv2D)    (None, 32, 64, 128)  147456      ['zero_padding2d_113[0][0]']     \n",
            "                                                                                                  \n",
            " add_52 (Add)                   (None, 32, 64, 128)  0           ['stage2_unit2_conv2[0][0]',     \n",
            "                                                                  'add_51[0][0]']                 \n",
            "                                                                                                  \n",
            " stage2_unit3_bn1 (BatchNormali  (None, 32, 64, 128)  512        ['add_52[0][0]']                 \n",
            " zation)                                                                                          \n",
            "                                                                                                  \n",
            " stage2_unit3_relu1 (Activation  (None, 32, 64, 128)  0          ['stage2_unit3_bn1[0][0]']       \n",
            " )                                                                                                \n",
            "                                                                                                  \n",
            " zero_padding2d_114 (ZeroPaddin  (None, 34, 66, 128)  0          ['stage2_unit3_relu1[0][0]']     \n",
            " g2D)                                                                                             \n",
            "                                                                                                  \n",
            " stage2_unit3_conv1 (Conv2D)    (None, 32, 64, 128)  147456      ['zero_padding2d_114[0][0]']     \n",
            "                                                                                                  \n",
            " stage2_unit3_bn2 (BatchNormali  (None, 32, 64, 128)  512        ['stage2_unit3_conv1[0][0]']     \n",
            " zation)                                                                                          \n",
            "                                                                                                  \n",
            " stage2_unit3_relu2 (Activation  (None, 32, 64, 128)  0          ['stage2_unit3_bn2[0][0]']       \n",
            " )                                                                                                \n",
            "                                                                                                  \n",
            " zero_padding2d_115 (ZeroPaddin  (None, 34, 66, 128)  0          ['stage2_unit3_relu2[0][0]']     \n",
            " g2D)                                                                                             \n",
            "                                                                                                  \n",
            " stage2_unit3_conv2 (Conv2D)    (None, 32, 64, 128)  147456      ['zero_padding2d_115[0][0]']     \n",
            "                                                                                                  \n",
            " add_53 (Add)                   (None, 32, 64, 128)  0           ['stage2_unit3_conv2[0][0]',     \n",
            "                                                                  'add_52[0][0]']                 \n",
            "                                                                                                  \n",
            " stage2_unit4_bn1 (BatchNormali  (None, 32, 64, 128)  512        ['add_53[0][0]']                 \n",
            " zation)                                                                                          \n",
            "                                                                                                  \n",
            " stage2_unit4_relu1 (Activation  (None, 32, 64, 128)  0          ['stage2_unit4_bn1[0][0]']       \n",
            " )                                                                                                \n",
            "                                                                                                  \n",
            " zero_padding2d_116 (ZeroPaddin  (None, 34, 66, 128)  0          ['stage2_unit4_relu1[0][0]']     \n",
            " g2D)                                                                                             \n",
            "                                                                                                  \n",
            " stage2_unit4_conv1 (Conv2D)    (None, 32, 64, 128)  147456      ['zero_padding2d_116[0][0]']     \n",
            "                                                                                                  \n",
            " stage2_unit4_bn2 (BatchNormali  (None, 32, 64, 128)  512        ['stage2_unit4_conv1[0][0]']     \n",
            " zation)                                                                                          \n",
            "                                                                                                  \n",
            " stage2_unit4_relu2 (Activation  (None, 32, 64, 128)  0          ['stage2_unit4_bn2[0][0]']       \n",
            " )                                                                                                \n",
            "                                                                                                  \n",
            " zero_padding2d_117 (ZeroPaddin  (None, 34, 66, 128)  0          ['stage2_unit4_relu2[0][0]']     \n",
            " g2D)                                                                                             \n",
            "                                                                                                  \n",
            " stage2_unit4_conv2 (Conv2D)    (None, 32, 64, 128)  147456      ['zero_padding2d_117[0][0]']     \n",
            "                                                                                                  \n",
            " add_54 (Add)                   (None, 32, 64, 128)  0           ['stage2_unit4_conv2[0][0]',     \n",
            "                                                                  'add_53[0][0]']                 \n",
            "                                                                                                  \n",
            " stage3_unit1_bn1 (BatchNormali  (None, 32, 64, 128)  512        ['add_54[0][0]']                 \n",
            " zation)                                                                                          \n",
            "                                                                                                  \n",
            " stage3_unit1_relu1 (Activation  (None, 32, 64, 128)  0          ['stage3_unit1_bn1[0][0]']       \n",
            " )                                                                                                \n",
            "                                                                                                  \n",
            " zero_padding2d_118 (ZeroPaddin  (None, 34, 66, 128)  0          ['stage3_unit1_relu1[0][0]']     \n",
            " g2D)                                                                                             \n",
            "                                                                                                  \n",
            " stage3_unit1_conv1 (Conv2D)    (None, 16, 32, 256)  294912      ['zero_padding2d_118[0][0]']     \n",
            "                                                                                                  \n",
            " stage3_unit1_bn2 (BatchNormali  (None, 16, 32, 256)  1024       ['stage3_unit1_conv1[0][0]']     \n",
            " zation)                                                                                          \n",
            "                                                                                                  \n",
            " stage3_unit1_relu2 (Activation  (None, 16, 32, 256)  0          ['stage3_unit1_bn2[0][0]']       \n",
            " )                                                                                                \n",
            "                                                                                                  \n",
            " zero_padding2d_119 (ZeroPaddin  (None, 18, 34, 256)  0          ['stage3_unit1_relu2[0][0]']     \n",
            " g2D)                                                                                             \n",
            "                                                                                                  \n",
            " stage3_unit1_conv2 (Conv2D)    (None, 16, 32, 256)  589824      ['zero_padding2d_119[0][0]']     \n",
            "                                                                                                  \n",
            " stage3_unit1_sc (Conv2D)       (None, 16, 32, 256)  32768       ['stage3_unit1_relu1[0][0]']     \n",
            "                                                                                                  \n",
            " add_55 (Add)                   (None, 16, 32, 256)  0           ['stage3_unit1_conv2[0][0]',     \n",
            "                                                                  'stage3_unit1_sc[0][0]']        \n",
            "                                                                                                  \n",
            " stage3_unit2_bn1 (BatchNormali  (None, 16, 32, 256)  1024       ['add_55[0][0]']                 \n",
            " zation)                                                                                          \n",
            "                                                                                                  \n",
            " stage3_unit2_relu1 (Activation  (None, 16, 32, 256)  0          ['stage3_unit2_bn1[0][0]']       \n",
            " )                                                                                                \n",
            "                                                                                                  \n",
            " zero_padding2d_120 (ZeroPaddin  (None, 18, 34, 256)  0          ['stage3_unit2_relu1[0][0]']     \n",
            " g2D)                                                                                             \n",
            "                                                                                                  \n",
            " stage3_unit2_conv1 (Conv2D)    (None, 16, 32, 256)  589824      ['zero_padding2d_120[0][0]']     \n",
            "                                                                                                  \n",
            " stage3_unit2_bn2 (BatchNormali  (None, 16, 32, 256)  1024       ['stage3_unit2_conv1[0][0]']     \n",
            " zation)                                                                                          \n",
            "                                                                                                  \n",
            " stage3_unit2_relu2 (Activation  (None, 16, 32, 256)  0          ['stage3_unit2_bn2[0][0]']       \n",
            " )                                                                                                \n",
            "                                                                                                  \n",
            " zero_padding2d_121 (ZeroPaddin  (None, 18, 34, 256)  0          ['stage3_unit2_relu2[0][0]']     \n",
            " g2D)                                                                                             \n",
            "                                                                                                  \n",
            " stage3_unit2_conv2 (Conv2D)    (None, 16, 32, 256)  589824      ['zero_padding2d_121[0][0]']     \n",
            "                                                                                                  \n",
            " add_56 (Add)                   (None, 16, 32, 256)  0           ['stage3_unit2_conv2[0][0]',     \n",
            "                                                                  'add_55[0][0]']                 \n",
            "                                                                                                  \n",
            " stage3_unit3_bn1 (BatchNormali  (None, 16, 32, 256)  1024       ['add_56[0][0]']                 \n",
            " zation)                                                                                          \n",
            "                                                                                                  \n",
            " stage3_unit3_relu1 (Activation  (None, 16, 32, 256)  0          ['stage3_unit3_bn1[0][0]']       \n",
            " )                                                                                                \n",
            "                                                                                                  \n",
            " zero_padding2d_122 (ZeroPaddin  (None, 18, 34, 256)  0          ['stage3_unit3_relu1[0][0]']     \n",
            " g2D)                                                                                             \n",
            "                                                                                                  \n",
            " stage3_unit3_conv1 (Conv2D)    (None, 16, 32, 256)  589824      ['zero_padding2d_122[0][0]']     \n",
            "                                                                                                  \n",
            " stage3_unit3_bn2 (BatchNormali  (None, 16, 32, 256)  1024       ['stage3_unit3_conv1[0][0]']     \n",
            " zation)                                                                                          \n",
            "                                                                                                  \n",
            " stage3_unit3_relu2 (Activation  (None, 16, 32, 256)  0          ['stage3_unit3_bn2[0][0]']       \n",
            " )                                                                                                \n",
            "                                                                                                  \n",
            " zero_padding2d_123 (ZeroPaddin  (None, 18, 34, 256)  0          ['stage3_unit3_relu2[0][0]']     \n",
            " g2D)                                                                                             \n",
            "                                                                                                  \n",
            " stage3_unit3_conv2 (Conv2D)    (None, 16, 32, 256)  589824      ['zero_padding2d_123[0][0]']     \n",
            "                                                                                                  \n",
            " add_57 (Add)                   (None, 16, 32, 256)  0           ['stage3_unit3_conv2[0][0]',     \n",
            "                                                                  'add_56[0][0]']                 \n",
            "                                                                                                  \n",
            " stage3_unit4_bn1 (BatchNormali  (None, 16, 32, 256)  1024       ['add_57[0][0]']                 \n",
            " zation)                                                                                          \n",
            "                                                                                                  \n",
            " stage3_unit4_relu1 (Activation  (None, 16, 32, 256)  0          ['stage3_unit4_bn1[0][0]']       \n",
            " )                                                                                                \n",
            "                                                                                                  \n",
            " zero_padding2d_124 (ZeroPaddin  (None, 18, 34, 256)  0          ['stage3_unit4_relu1[0][0]']     \n",
            " g2D)                                                                                             \n",
            "                                                                                                  \n",
            " stage3_unit4_conv1 (Conv2D)    (None, 16, 32, 256)  589824      ['zero_padding2d_124[0][0]']     \n",
            "                                                                                                  \n",
            " stage3_unit4_bn2 (BatchNormali  (None, 16, 32, 256)  1024       ['stage3_unit4_conv1[0][0]']     \n",
            " zation)                                                                                          \n",
            "                                                                                                  \n",
            " stage3_unit4_relu2 (Activation  (None, 16, 32, 256)  0          ['stage3_unit4_bn2[0][0]']       \n",
            " )                                                                                                \n",
            "                                                                                                  \n",
            " zero_padding2d_125 (ZeroPaddin  (None, 18, 34, 256)  0          ['stage3_unit4_relu2[0][0]']     \n",
            " g2D)                                                                                             \n",
            "                                                                                                  \n",
            " stage3_unit4_conv2 (Conv2D)    (None, 16, 32, 256)  589824      ['zero_padding2d_125[0][0]']     \n",
            "                                                                                                  \n",
            " add_58 (Add)                   (None, 16, 32, 256)  0           ['stage3_unit4_conv2[0][0]',     \n",
            "                                                                  'add_57[0][0]']                 \n",
            "                                                                                                  \n",
            " stage3_unit5_bn1 (BatchNormali  (None, 16, 32, 256)  1024       ['add_58[0][0]']                 \n",
            " zation)                                                                                          \n",
            "                                                                                                  \n",
            " stage3_unit5_relu1 (Activation  (None, 16, 32, 256)  0          ['stage3_unit5_bn1[0][0]']       \n",
            " )                                                                                                \n",
            "                                                                                                  \n",
            " zero_padding2d_126 (ZeroPaddin  (None, 18, 34, 256)  0          ['stage3_unit5_relu1[0][0]']     \n",
            " g2D)                                                                                             \n",
            "                                                                                                  \n",
            " stage3_unit5_conv1 (Conv2D)    (None, 16, 32, 256)  589824      ['zero_padding2d_126[0][0]']     \n",
            "                                                                                                  \n",
            " stage3_unit5_bn2 (BatchNormali  (None, 16, 32, 256)  1024       ['stage3_unit5_conv1[0][0]']     \n",
            " zation)                                                                                          \n",
            "                                                                                                  \n",
            " stage3_unit5_relu2 (Activation  (None, 16, 32, 256)  0          ['stage3_unit5_bn2[0][0]']       \n",
            " )                                                                                                \n",
            "                                                                                                  \n",
            " zero_padding2d_127 (ZeroPaddin  (None, 18, 34, 256)  0          ['stage3_unit5_relu2[0][0]']     \n",
            " g2D)                                                                                             \n",
            "                                                                                                  \n",
            " stage3_unit5_conv2 (Conv2D)    (None, 16, 32, 256)  589824      ['zero_padding2d_127[0][0]']     \n",
            "                                                                                                  \n",
            " add_59 (Add)                   (None, 16, 32, 256)  0           ['stage3_unit5_conv2[0][0]',     \n",
            "                                                                  'add_58[0][0]']                 \n",
            "                                                                                                  \n",
            " stage3_unit6_bn1 (BatchNormali  (None, 16, 32, 256)  1024       ['add_59[0][0]']                 \n",
            " zation)                                                                                          \n",
            "                                                                                                  \n",
            " stage3_unit6_relu1 (Activation  (None, 16, 32, 256)  0          ['stage3_unit6_bn1[0][0]']       \n",
            " )                                                                                                \n",
            "                                                                                                  \n",
            " zero_padding2d_128 (ZeroPaddin  (None, 18, 34, 256)  0          ['stage3_unit6_relu1[0][0]']     \n",
            " g2D)                                                                                             \n",
            "                                                                                                  \n",
            " stage3_unit6_conv1 (Conv2D)    (None, 16, 32, 256)  589824      ['zero_padding2d_128[0][0]']     \n",
            "                                                                                                  \n",
            " stage3_unit6_bn2 (BatchNormali  (None, 16, 32, 256)  1024       ['stage3_unit6_conv1[0][0]']     \n",
            " zation)                                                                                          \n",
            "                                                                                                  \n",
            " stage3_unit6_relu2 (Activation  (None, 16, 32, 256)  0          ['stage3_unit6_bn2[0][0]']       \n",
            " )                                                                                                \n",
            "                                                                                                  \n",
            " zero_padding2d_129 (ZeroPaddin  (None, 18, 34, 256)  0          ['stage3_unit6_relu2[0][0]']     \n",
            " g2D)                                                                                             \n",
            "                                                                                                  \n",
            " stage3_unit6_conv2 (Conv2D)    (None, 16, 32, 256)  589824      ['zero_padding2d_129[0][0]']     \n",
            "                                                                                                  \n",
            " add_60 (Add)                   (None, 16, 32, 256)  0           ['stage3_unit6_conv2[0][0]',     \n",
            "                                                                  'add_59[0][0]']                 \n",
            "                                                                                                  \n",
            " stage4_unit1_bn1 (BatchNormali  (None, 16, 32, 256)  1024       ['add_60[0][0]']                 \n",
            " zation)                                                                                          \n",
            "                                                                                                  \n",
            " stage4_unit1_relu1 (Activation  (None, 16, 32, 256)  0          ['stage4_unit1_bn1[0][0]']       \n",
            " )                                                                                                \n",
            "                                                                                                  \n",
            " zero_padding2d_130 (ZeroPaddin  (None, 18, 34, 256)  0          ['stage4_unit1_relu1[0][0]']     \n",
            " g2D)                                                                                             \n",
            "                                                                                                  \n",
            " stage4_unit1_conv1 (Conv2D)    (None, 8, 16, 512)   1179648     ['zero_padding2d_130[0][0]']     \n",
            "                                                                                                  \n",
            " stage4_unit1_bn2 (BatchNormali  (None, 8, 16, 512)  2048        ['stage4_unit1_conv1[0][0]']     \n",
            " zation)                                                                                          \n",
            "                                                                                                  \n",
            " stage4_unit1_relu2 (Activation  (None, 8, 16, 512)  0           ['stage4_unit1_bn2[0][0]']       \n",
            " )                                                                                                \n",
            "                                                                                                  \n",
            " zero_padding2d_131 (ZeroPaddin  (None, 10, 18, 512)  0          ['stage4_unit1_relu2[0][0]']     \n",
            " g2D)                                                                                             \n",
            "                                                                                                  \n",
            " stage4_unit1_conv2 (Conv2D)    (None, 8, 16, 512)   2359296     ['zero_padding2d_131[0][0]']     \n",
            "                                                                                                  \n",
            " stage4_unit1_sc (Conv2D)       (None, 8, 16, 512)   131072      ['stage4_unit1_relu1[0][0]']     \n",
            "                                                                                                  \n",
            " add_61 (Add)                   (None, 8, 16, 512)   0           ['stage4_unit1_conv2[0][0]',     \n",
            "                                                                  'stage4_unit1_sc[0][0]']        \n",
            "                                                                                                  \n",
            " stage4_unit2_bn1 (BatchNormali  (None, 8, 16, 512)  2048        ['add_61[0][0]']                 \n",
            " zation)                                                                                          \n",
            "                                                                                                  \n",
            " stage4_unit2_relu1 (Activation  (None, 8, 16, 512)  0           ['stage4_unit2_bn1[0][0]']       \n",
            " )                                                                                                \n",
            "                                                                                                  \n",
            " zero_padding2d_132 (ZeroPaddin  (None, 10, 18, 512)  0          ['stage4_unit2_relu1[0][0]']     \n",
            " g2D)                                                                                             \n",
            "                                                                                                  \n",
            " stage4_unit2_conv1 (Conv2D)    (None, 8, 16, 512)   2359296     ['zero_padding2d_132[0][0]']     \n",
            "                                                                                                  \n",
            " stage4_unit2_bn2 (BatchNormali  (None, 8, 16, 512)  2048        ['stage4_unit2_conv1[0][0]']     \n",
            " zation)                                                                                          \n",
            "                                                                                                  \n",
            " stage4_unit2_relu2 (Activation  (None, 8, 16, 512)  0           ['stage4_unit2_bn2[0][0]']       \n",
            " )                                                                                                \n",
            "                                                                                                  \n",
            " zero_padding2d_133 (ZeroPaddin  (None, 10, 18, 512)  0          ['stage4_unit2_relu2[0][0]']     \n",
            " g2D)                                                                                             \n",
            "                                                                                                  \n",
            " stage4_unit2_conv2 (Conv2D)    (None, 8, 16, 512)   2359296     ['zero_padding2d_133[0][0]']     \n",
            "                                                                                                  \n",
            " add_62 (Add)                   (None, 8, 16, 512)   0           ['stage4_unit2_conv2[0][0]',     \n",
            "                                                                  'add_61[0][0]']                 \n",
            "                                                                                                  \n",
            " stage4_unit3_bn1 (BatchNormali  (None, 8, 16, 512)  2048        ['add_62[0][0]']                 \n",
            " zation)                                                                                          \n",
            "                                                                                                  \n",
            " stage4_unit3_relu1 (Activation  (None, 8, 16, 512)  0           ['stage4_unit3_bn1[0][0]']       \n",
            " )                                                                                                \n",
            "                                                                                                  \n",
            " zero_padding2d_134 (ZeroPaddin  (None, 10, 18, 512)  0          ['stage4_unit3_relu1[0][0]']     \n",
            " g2D)                                                                                             \n",
            "                                                                                                  \n",
            " stage4_unit3_conv1 (Conv2D)    (None, 8, 16, 512)   2359296     ['zero_padding2d_134[0][0]']     \n",
            "                                                                                                  \n",
            " stage4_unit3_bn2 (BatchNormali  (None, 8, 16, 512)  2048        ['stage4_unit3_conv1[0][0]']     \n",
            " zation)                                                                                          \n",
            "                                                                                                  \n",
            " stage4_unit3_relu2 (Activation  (None, 8, 16, 512)  0           ['stage4_unit3_bn2[0][0]']       \n",
            " )                                                                                                \n",
            "                                                                                                  \n",
            " zero_padding2d_135 (ZeroPaddin  (None, 10, 18, 512)  0          ['stage4_unit3_relu2[0][0]']     \n",
            " g2D)                                                                                             \n",
            "                                                                                                  \n",
            " stage4_unit3_conv2 (Conv2D)    (None, 8, 16, 512)   2359296     ['zero_padding2d_135[0][0]']     \n",
            "                                                                                                  \n",
            " add_63 (Add)                   (None, 8, 16, 512)   0           ['stage4_unit3_conv2[0][0]',     \n",
            "                                                                  'add_62[0][0]']                 \n",
            "                                                                                                  \n",
            " bn1 (BatchNormalization)       (None, 8, 16, 512)   2048        ['add_63[0][0]']                 \n",
            "                                                                                                  \n",
            " relu1 (Activation)             (None, 8, 16, 512)   0           ['bn1[0][0]']                    \n",
            "                                                                                                  \n",
            " decoder_stage0_upsampling (UpS  (None, 16, 32, 512)  0          ['relu1[0][0]']                  \n",
            " ampling2D)                                                                                       \n",
            "                                                                                                  \n",
            " decoder_stage0_concat (Concate  (None, 16, 32, 768)  0          ['decoder_stage0_upsampling[0][0]\n",
            " nate)                                                           ',                               \n",
            "                                                                  'stage4_unit1_relu1[0][0]']     \n",
            "                                                                                                  \n",
            " decoder_stage0a_conv (Conv2D)  (None, 16, 32, 256)  1769472     ['decoder_stage0_concat[0][0]']  \n",
            "                                                                                                  \n",
            " decoder_stage0a_bn (BatchNorma  (None, 16, 32, 256)  1024       ['decoder_stage0a_conv[0][0]']   \n",
            " lization)                                                                                        \n",
            "                                                                                                  \n",
            " decoder_stage0a_relu (Activati  (None, 16, 32, 256)  0          ['decoder_stage0a_bn[0][0]']     \n",
            " on)                                                                                              \n",
            "                                                                                                  \n",
            " decoder_stage0b_conv (Conv2D)  (None, 16, 32, 256)  589824      ['decoder_stage0a_relu[0][0]']   \n",
            "                                                                                                  \n",
            " decoder_stage0b_bn (BatchNorma  (None, 16, 32, 256)  1024       ['decoder_stage0b_conv[0][0]']   \n",
            " lization)                                                                                        \n",
            "                                                                                                  \n",
            " decoder_stage0b_relu (Activati  (None, 16, 32, 256)  0          ['decoder_stage0b_bn[0][0]']     \n",
            " on)                                                                                              \n",
            "                                                                                                  \n",
            " decoder_stage1_upsampling (UpS  (None, 32, 64, 256)  0          ['decoder_stage0b_relu[0][0]']   \n",
            " ampling2D)                                                                                       \n",
            "                                                                                                  \n",
            " decoder_stage1_concat (Concate  (None, 32, 64, 384)  0          ['decoder_stage1_upsampling[0][0]\n",
            " nate)                                                           ',                               \n",
            "                                                                  'stage3_unit1_relu1[0][0]']     \n",
            "                                                                                                  \n",
            " decoder_stage1a_conv (Conv2D)  (None, 32, 64, 128)  442368      ['decoder_stage1_concat[0][0]']  \n",
            "                                                                                                  \n",
            " decoder_stage1a_bn (BatchNorma  (None, 32, 64, 128)  512        ['decoder_stage1a_conv[0][0]']   \n",
            " lization)                                                                                        \n",
            "                                                                                                  \n",
            " decoder_stage1a_relu (Activati  (None, 32, 64, 128)  0          ['decoder_stage1a_bn[0][0]']     \n",
            " on)                                                                                              \n",
            "                                                                                                  \n",
            " decoder_stage1b_conv (Conv2D)  (None, 32, 64, 128)  147456      ['decoder_stage1a_relu[0][0]']   \n",
            "                                                                                                  \n",
            " decoder_stage1b_bn (BatchNorma  (None, 32, 64, 128)  512        ['decoder_stage1b_conv[0][0]']   \n",
            " lization)                                                                                        \n",
            "                                                                                                  \n",
            " decoder_stage1b_relu (Activati  (None, 32, 64, 128)  0          ['decoder_stage1b_bn[0][0]']     \n",
            " on)                                                                                              \n",
            "                                                                                                  \n",
            " decoder_stage2_upsampling (UpS  (None, 64, 128, 128  0          ['decoder_stage1b_relu[0][0]']   \n",
            " ampling2D)                     )                                                                 \n",
            "                                                                                                  \n",
            " decoder_stage2_concat (Concate  (None, 64, 128, 192  0          ['decoder_stage2_upsampling[0][0]\n",
            " nate)                          )                                ',                               \n",
            "                                                                  'stage2_unit1_relu1[0][0]']     \n",
            "                                                                                                  \n",
            " decoder_stage2a_conv (Conv2D)  (None, 64, 128, 64)  110592      ['decoder_stage2_concat[0][0]']  \n",
            "                                                                                                  \n",
            " decoder_stage2a_bn (BatchNorma  (None, 64, 128, 64)  256        ['decoder_stage2a_conv[0][0]']   \n",
            " lization)                                                                                        \n",
            "                                                                                                  \n",
            " decoder_stage2a_relu (Activati  (None, 64, 128, 64)  0          ['decoder_stage2a_bn[0][0]']     \n",
            " on)                                                                                              \n",
            "                                                                                                  \n",
            " decoder_stage2b_conv (Conv2D)  (None, 64, 128, 64)  36864       ['decoder_stage2a_relu[0][0]']   \n",
            "                                                                                                  \n",
            " decoder_stage2b_bn (BatchNorma  (None, 64, 128, 64)  256        ['decoder_stage2b_conv[0][0]']   \n",
            " lization)                                                                                        \n",
            "                                                                                                  \n",
            " decoder_stage2b_relu (Activati  (None, 64, 128, 64)  0          ['decoder_stage2b_bn[0][0]']     \n",
            " on)                                                                                              \n",
            "                                                                                                  \n",
            " decoder_stage3_upsampling (UpS  (None, 128, 256, 64  0          ['decoder_stage2b_relu[0][0]']   \n",
            " ampling2D)                     )                                                                 \n",
            "                                                                                                  \n",
            " decoder_stage3_concat (Concate  (None, 128, 256, 12  0          ['decoder_stage3_upsampling[0][0]\n",
            " nate)                          8)                               ',                               \n",
            "                                                                  'relu0[0][0]']                  \n",
            "                                                                                                  \n",
            " decoder_stage3a_conv (Conv2D)  (None, 128, 256, 32  36864       ['decoder_stage3_concat[0][0]']  \n",
            "                                )                                                                 \n",
            "                                                                                                  \n",
            " decoder_stage3a_bn (BatchNorma  (None, 128, 256, 32  128        ['decoder_stage3a_conv[0][0]']   \n",
            " lization)                      )                                                                 \n",
            "                                                                                                  \n",
            " decoder_stage3a_relu (Activati  (None, 128, 256, 32  0          ['decoder_stage3a_bn[0][0]']     \n",
            " on)                            )                                                                 \n",
            "                                                                                                  \n",
            " decoder_stage3b_conv (Conv2D)  (None, 128, 256, 32  9216        ['decoder_stage3a_relu[0][0]']   \n",
            "                                )                                                                 \n",
            "                                                                                                  \n",
            " decoder_stage3b_bn (BatchNorma  (None, 128, 256, 32  128        ['decoder_stage3b_conv[0][0]']   \n",
            " lization)                      )                                                                 \n",
            "                                                                                                  \n",
            " decoder_stage3b_relu (Activati  (None, 128, 256, 32  0          ['decoder_stage3b_bn[0][0]']     \n",
            " on)                            )                                                                 \n",
            "                                                                                                  \n",
            " decoder_stage4_upsampling (UpS  (None, 256, 512, 32  0          ['decoder_stage3b_relu[0][0]']   \n",
            " ampling2D)                     )                                                                 \n",
            "                                                                                                  \n",
            " decoder_stage4a_conv (Conv2D)  (None, 256, 512, 16  4608        ['decoder_stage4_upsampling[0][0]\n",
            "                                )                                ']                               \n",
            "                                                                                                  \n",
            " decoder_stage4a_bn (BatchNorma  (None, 256, 512, 16  64         ['decoder_stage4a_conv[0][0]']   \n",
            " lization)                      )                                                                 \n",
            "                                                                                                  \n",
            " decoder_stage4a_relu (Activati  (None, 256, 512, 16  0          ['decoder_stage4a_bn[0][0]']     \n",
            " on)                            )                                                                 \n",
            "                                                                                                  \n",
            " decoder_stage4b_conv (Conv2D)  (None, 256, 512, 16  2304        ['decoder_stage4a_relu[0][0]']   \n",
            "                                )                                                                 \n",
            "                                                                                                  \n",
            " decoder_stage4b_bn (BatchNorma  (None, 256, 512, 16  64         ['decoder_stage4b_conv[0][0]']   \n",
            " lization)                      )                                                                 \n",
            "                                                                                                  \n",
            " decoder_stage4b_relu (Activati  (None, 256, 512, 16  0          ['decoder_stage4b_bn[0][0]']     \n",
            " on)                            )                                                                 \n",
            "                                                                                                  \n",
            " final_conv (Conv2D)            (None, 256, 512, 1)  145         ['decoder_stage4b_relu[0][0]']   \n",
            "                                                                                                  \n",
            " sigmoid (Activation)           (None, 256, 512, 1)  0           ['final_conv[0][0]']             \n",
            "                                                                                                  \n",
            "==================================================================================================\n",
            "Total params: 24,456,154\n",
            "Trainable params: 24,438,804\n",
            "Non-trainable params: 17,350\n",
            "__________________________________________________________________________________________________\n"
          ]
        }
      ]
    },
    {
      "cell_type": "code",
      "source": [
        "preprocess_input1 = sm.get_preprocessing(\"resnet34\")\n"
      ],
      "metadata": {
        "id": "PMwDZZmVMRC4"
      },
      "execution_count": null,
      "outputs": []
    },
    {
      "cell_type": "code",
      "source": [
        "from keras.preprocessing.image import ImageDataGenerator"
      ],
      "metadata": {
        "id": "0_Tko-63MuEX"
      },
      "execution_count": null,
      "outputs": []
    },
    {
      "cell_type": "code",
      "source": [
        "image_data_generator = ImageDataGenerator(rotation_range=90,\n",
        "                     width_shift_range=0.2,\n",
        "                     height_shift_range=0.2,\n",
        "                     shear_range=0.35,\n",
        "                     zoom_range=0.2,\n",
        "                     horizontal_flip=True,\n",
        "                     vertical_flip=True,\n",
        "                     fill_mode='nearest',\n",
        "                      brightness_range=(0.5,0.9),)\n",
        "mask_data_generator =ImageDataGenerator(\n",
        "                      rotation_range=90,\n",
        "                     width_shift_range=0.2,\n",
        "                     height_shift_range=0.2,\n",
        "                     shear_range=0.35,\n",
        "                     zoom_range=0.2,\n",
        "                     horizontal_flip=True,\n",
        "                     vertical_flip=True,\n",
        "                     fill_mode='nearest',\n",
        "                     brightness_range=(0.5,0.9)\n",
        "                    )"
      ],
      "metadata": {
        "id": "FaD8uyqVMTiV"
      },
      "execution_count": null,
      "outputs": []
    },
    {
      "cell_type": "code",
      "source": [
        "X_train=preprocess_input1(train[0])\n",
        "y_train=train[1]"
      ],
      "metadata": {
        "id": "vBLKtIEnNrv0"
      },
      "execution_count": null,
      "outputs": []
    },
    {
      "cell_type": "code",
      "source": [
        "seed=24\n",
        "# image_data_generator.fit(X_train, augment=True, seed=seed)\n",
        "image_generator = image_data_generator.flow(train[0], seed=seed)\n",
        "\n",
        "# mask_data_generator.fit(y_train, augment=True, seed=seed)\n",
        "mask_generator = mask_data_generator.flow(train[1], seed=seed)\n"
      ],
      "metadata": {
        "id": "MxqMWYECNU2h"
      },
      "execution_count": null,
      "outputs": []
    },
    {
      "cell_type": "code",
      "source": [
        "valid_img_generator = image_data_generator.flow(test[0], seed=seed)\n",
        "valid_mask_generator = mask_data_generator.flow(test[1], seed=seed)"
      ],
      "metadata": {
        "id": "KpVYZIH5RSz1"
      },
      "execution_count": null,
      "outputs": []
    },
    {
      "cell_type": "code",
      "source": [
        "def my_image_mask_generator(image_generator, mask_generator):\n",
        "    train_generator = zip(image_generator, mask_generator)\n",
        "\n",
        "    for (img, mask) in train_generator:\n",
        "        yield (img, mask)\n",
        "\n",
        "my_generator = my_image_mask_generator(image_generator, mask_generator)"
      ],
      "metadata": {
        "id": "YR04bS3CPqg2"
      },
      "execution_count": null,
      "outputs": []
    },
    {
      "cell_type": "code",
      "source": [
        "val_generator=my_image_mask_generator(valid_img_generator,valid_mask_generator)"
      ],
      "metadata": {
        "id": "gyh3zbhHRYqh"
      },
      "execution_count": null,
      "outputs": []
    },
    {
      "cell_type": "code",
      "source": [
        "history = model.fit(my_generator, steps_per_epoch=25, epochs=5)"
      ],
      "metadata": {
        "colab": {
          "base_uri": "https://localhost:8080/",
          "height": 363
        },
        "id": "TOtX7BIQkjTh",
        "outputId": "fb02a662-8c48-4e3d-80b5-3a9f8570e26d"
      },
      "execution_count": null,
      "outputs": [
        {
          "output_type": "stream",
          "name": "stdout",
          "text": [
            "Epoch 1/5\n",
            " 4/25 [===>..........................] - ETA: 31s - loss: -147.7880 - iou_score: 8.0492"
          ]
        },
        {
          "output_type": "error",
          "ename": "KeyboardInterrupt",
          "evalue": "ignored",
          "traceback": [
            "\u001b[0;31m---------------------------------------------------------------------------\u001b[0m",
            "\u001b[0;31mKeyboardInterrupt\u001b[0m                         Traceback (most recent call last)",
            "\u001b[0;32m<ipython-input-38-c3aaa653997a>\u001b[0m in \u001b[0;36m<module>\u001b[0;34m\u001b[0m\n\u001b[0;32m----> 1\u001b[0;31m \u001b[0mhistory\u001b[0m \u001b[0;34m=\u001b[0m \u001b[0mmodel\u001b[0m\u001b[0;34m.\u001b[0m\u001b[0mfit\u001b[0m\u001b[0;34m(\u001b[0m\u001b[0mmy_generator\u001b[0m\u001b[0;34m,\u001b[0m \u001b[0msteps_per_epoch\u001b[0m\u001b[0;34m=\u001b[0m\u001b[0;36m25\u001b[0m\u001b[0;34m,\u001b[0m \u001b[0mepochs\u001b[0m\u001b[0;34m=\u001b[0m\u001b[0;36m5\u001b[0m\u001b[0;34m)\u001b[0m\u001b[0;34m\u001b[0m\u001b[0;34m\u001b[0m\u001b[0m\n\u001b[0m",
            "\u001b[0;32m/usr/local/lib/python3.9/dist-packages/keras/utils/traceback_utils.py\u001b[0m in \u001b[0;36merror_handler\u001b[0;34m(*args, **kwargs)\u001b[0m\n\u001b[1;32m     63\u001b[0m         \u001b[0mfiltered_tb\u001b[0m \u001b[0;34m=\u001b[0m \u001b[0;32mNone\u001b[0m\u001b[0;34m\u001b[0m\u001b[0;34m\u001b[0m\u001b[0m\n\u001b[1;32m     64\u001b[0m         \u001b[0;32mtry\u001b[0m\u001b[0;34m:\u001b[0m\u001b[0;34m\u001b[0m\u001b[0;34m\u001b[0m\u001b[0m\n\u001b[0;32m---> 65\u001b[0;31m             \u001b[0;32mreturn\u001b[0m \u001b[0mfn\u001b[0m\u001b[0;34m(\u001b[0m\u001b[0;34m*\u001b[0m\u001b[0margs\u001b[0m\u001b[0;34m,\u001b[0m \u001b[0;34m**\u001b[0m\u001b[0mkwargs\u001b[0m\u001b[0;34m)\u001b[0m\u001b[0;34m\u001b[0m\u001b[0;34m\u001b[0m\u001b[0m\n\u001b[0m\u001b[1;32m     66\u001b[0m         \u001b[0;32mexcept\u001b[0m \u001b[0mException\u001b[0m \u001b[0;32mas\u001b[0m \u001b[0me\u001b[0m\u001b[0;34m:\u001b[0m\u001b[0;34m\u001b[0m\u001b[0;34m\u001b[0m\u001b[0m\n\u001b[1;32m     67\u001b[0m             \u001b[0mfiltered_tb\u001b[0m \u001b[0;34m=\u001b[0m \u001b[0m_process_traceback_frames\u001b[0m\u001b[0;34m(\u001b[0m\u001b[0me\u001b[0m\u001b[0;34m.\u001b[0m\u001b[0m__traceback__\u001b[0m\u001b[0;34m)\u001b[0m\u001b[0;34m\u001b[0m\u001b[0;34m\u001b[0m\u001b[0m\n",
            "\u001b[0;32m/usr/local/lib/python3.9/dist-packages/keras/engine/training.py\u001b[0m in \u001b[0;36mfit\u001b[0;34m(self, x, y, batch_size, epochs, verbose, callbacks, validation_split, validation_data, shuffle, class_weight, sample_weight, initial_epoch, steps_per_epoch, validation_steps, validation_batch_size, validation_freq, max_queue_size, workers, use_multiprocessing)\u001b[0m\n\u001b[1;32m   1648\u001b[0m                         ):\n\u001b[1;32m   1649\u001b[0m                             \u001b[0mcallbacks\u001b[0m\u001b[0;34m.\u001b[0m\u001b[0mon_train_batch_begin\u001b[0m\u001b[0;34m(\u001b[0m\u001b[0mstep\u001b[0m\u001b[0;34m)\u001b[0m\u001b[0;34m\u001b[0m\u001b[0;34m\u001b[0m\u001b[0m\n\u001b[0;32m-> 1650\u001b[0;31m                             \u001b[0mtmp_logs\u001b[0m \u001b[0;34m=\u001b[0m \u001b[0mself\u001b[0m\u001b[0;34m.\u001b[0m\u001b[0mtrain_function\u001b[0m\u001b[0;34m(\u001b[0m\u001b[0miterator\u001b[0m\u001b[0;34m)\u001b[0m\u001b[0;34m\u001b[0m\u001b[0;34m\u001b[0m\u001b[0m\n\u001b[0m\u001b[1;32m   1651\u001b[0m                             \u001b[0;32mif\u001b[0m \u001b[0mdata_handler\u001b[0m\u001b[0;34m.\u001b[0m\u001b[0mshould_sync\u001b[0m\u001b[0;34m:\u001b[0m\u001b[0;34m\u001b[0m\u001b[0;34m\u001b[0m\u001b[0m\n\u001b[1;32m   1652\u001b[0m                                 \u001b[0mcontext\u001b[0m\u001b[0;34m.\u001b[0m\u001b[0masync_wait\u001b[0m\u001b[0;34m(\u001b[0m\u001b[0;34m)\u001b[0m\u001b[0;34m\u001b[0m\u001b[0;34m\u001b[0m\u001b[0m\n",
            "\u001b[0;32m/usr/local/lib/python3.9/dist-packages/tensorflow/python/util/traceback_utils.py\u001b[0m in \u001b[0;36merror_handler\u001b[0;34m(*args, **kwargs)\u001b[0m\n\u001b[1;32m    148\u001b[0m     \u001b[0mfiltered_tb\u001b[0m \u001b[0;34m=\u001b[0m \u001b[0;32mNone\u001b[0m\u001b[0;34m\u001b[0m\u001b[0;34m\u001b[0m\u001b[0m\n\u001b[1;32m    149\u001b[0m     \u001b[0;32mtry\u001b[0m\u001b[0;34m:\u001b[0m\u001b[0;34m\u001b[0m\u001b[0;34m\u001b[0m\u001b[0m\n\u001b[0;32m--> 150\u001b[0;31m       \u001b[0;32mreturn\u001b[0m \u001b[0mfn\u001b[0m\u001b[0;34m(\u001b[0m\u001b[0;34m*\u001b[0m\u001b[0margs\u001b[0m\u001b[0;34m,\u001b[0m \u001b[0;34m**\u001b[0m\u001b[0mkwargs\u001b[0m\u001b[0;34m)\u001b[0m\u001b[0;34m\u001b[0m\u001b[0;34m\u001b[0m\u001b[0m\n\u001b[0m\u001b[1;32m    151\u001b[0m     \u001b[0;32mexcept\u001b[0m \u001b[0mException\u001b[0m \u001b[0;32mas\u001b[0m \u001b[0me\u001b[0m\u001b[0;34m:\u001b[0m\u001b[0;34m\u001b[0m\u001b[0;34m\u001b[0m\u001b[0m\n\u001b[1;32m    152\u001b[0m       \u001b[0mfiltered_tb\u001b[0m \u001b[0;34m=\u001b[0m \u001b[0m_process_traceback_frames\u001b[0m\u001b[0;34m(\u001b[0m\u001b[0me\u001b[0m\u001b[0;34m.\u001b[0m\u001b[0m__traceback__\u001b[0m\u001b[0;34m)\u001b[0m\u001b[0;34m\u001b[0m\u001b[0;34m\u001b[0m\u001b[0m\n",
            "\u001b[0;32m/usr/local/lib/python3.9/dist-packages/tensorflow/python/eager/polymorphic_function/polymorphic_function.py\u001b[0m in \u001b[0;36m__call__\u001b[0;34m(self, *args, **kwds)\u001b[0m\n\u001b[1;32m    878\u001b[0m \u001b[0;34m\u001b[0m\u001b[0m\n\u001b[1;32m    879\u001b[0m       \u001b[0;32mwith\u001b[0m \u001b[0mOptionalXlaContext\u001b[0m\u001b[0;34m(\u001b[0m\u001b[0mself\u001b[0m\u001b[0;34m.\u001b[0m\u001b[0m_jit_compile\u001b[0m\u001b[0;34m)\u001b[0m\u001b[0;34m:\u001b[0m\u001b[0;34m\u001b[0m\u001b[0;34m\u001b[0m\u001b[0m\n\u001b[0;32m--> 880\u001b[0;31m         \u001b[0mresult\u001b[0m \u001b[0;34m=\u001b[0m \u001b[0mself\u001b[0m\u001b[0;34m.\u001b[0m\u001b[0m_call\u001b[0m\u001b[0;34m(\u001b[0m\u001b[0;34m*\u001b[0m\u001b[0margs\u001b[0m\u001b[0;34m,\u001b[0m \u001b[0;34m**\u001b[0m\u001b[0mkwds\u001b[0m\u001b[0;34m)\u001b[0m\u001b[0;34m\u001b[0m\u001b[0;34m\u001b[0m\u001b[0m\n\u001b[0m\u001b[1;32m    881\u001b[0m \u001b[0;34m\u001b[0m\u001b[0m\n\u001b[1;32m    882\u001b[0m       \u001b[0mnew_tracing_count\u001b[0m \u001b[0;34m=\u001b[0m \u001b[0mself\u001b[0m\u001b[0;34m.\u001b[0m\u001b[0mexperimental_get_tracing_count\u001b[0m\u001b[0;34m(\u001b[0m\u001b[0;34m)\u001b[0m\u001b[0;34m\u001b[0m\u001b[0;34m\u001b[0m\u001b[0m\n",
            "\u001b[0;32m/usr/local/lib/python3.9/dist-packages/tensorflow/python/eager/polymorphic_function/polymorphic_function.py\u001b[0m in \u001b[0;36m_call\u001b[0;34m(self, *args, **kwds)\u001b[0m\n\u001b[1;32m    910\u001b[0m       \u001b[0;31m# In this case we have created variables on the first call, so we run the\u001b[0m\u001b[0;34m\u001b[0m\u001b[0;34m\u001b[0m\u001b[0m\n\u001b[1;32m    911\u001b[0m       \u001b[0;31m# defunned version which is guaranteed to never create variables.\u001b[0m\u001b[0;34m\u001b[0m\u001b[0;34m\u001b[0m\u001b[0m\n\u001b[0;32m--> 912\u001b[0;31m       \u001b[0;32mreturn\u001b[0m \u001b[0mself\u001b[0m\u001b[0;34m.\u001b[0m\u001b[0m_no_variable_creation_fn\u001b[0m\u001b[0;34m(\u001b[0m\u001b[0;34m*\u001b[0m\u001b[0margs\u001b[0m\u001b[0;34m,\u001b[0m \u001b[0;34m**\u001b[0m\u001b[0mkwds\u001b[0m\u001b[0;34m)\u001b[0m  \u001b[0;31m# pylint: disable=not-callable\u001b[0m\u001b[0;34m\u001b[0m\u001b[0;34m\u001b[0m\u001b[0m\n\u001b[0m\u001b[1;32m    913\u001b[0m     \u001b[0;32melif\u001b[0m \u001b[0mself\u001b[0m\u001b[0;34m.\u001b[0m\u001b[0m_variable_creation_fn\u001b[0m \u001b[0;32mis\u001b[0m \u001b[0;32mnot\u001b[0m \u001b[0;32mNone\u001b[0m\u001b[0;34m:\u001b[0m\u001b[0;34m\u001b[0m\u001b[0;34m\u001b[0m\u001b[0m\n\u001b[1;32m    914\u001b[0m       \u001b[0;31m# Release the lock early so that multiple threads can perform the call\u001b[0m\u001b[0;34m\u001b[0m\u001b[0;34m\u001b[0m\u001b[0m\n",
            "\u001b[0;32m/usr/local/lib/python3.9/dist-packages/tensorflow/python/eager/polymorphic_function/tracing_compiler.py\u001b[0m in \u001b[0;36m__call__\u001b[0;34m(self, *args, **kwargs)\u001b[0m\n\u001b[1;32m    132\u001b[0m       (concrete_function,\n\u001b[1;32m    133\u001b[0m        filtered_flat_args) = self._maybe_define_function(args, kwargs)\n\u001b[0;32m--> 134\u001b[0;31m     return concrete_function._call_flat(\n\u001b[0m\u001b[1;32m    135\u001b[0m         filtered_flat_args, captured_inputs=concrete_function.captured_inputs)  # pylint: disable=protected-access\n\u001b[1;32m    136\u001b[0m \u001b[0;34m\u001b[0m\u001b[0m\n",
            "\u001b[0;32m/usr/local/lib/python3.9/dist-packages/tensorflow/python/eager/polymorphic_function/monomorphic_function.py\u001b[0m in \u001b[0;36m_call_flat\u001b[0;34m(self, args, captured_inputs, cancellation_manager)\u001b[0m\n\u001b[1;32m   1743\u001b[0m         and executing_eagerly):\n\u001b[1;32m   1744\u001b[0m       \u001b[0;31m# No tape is watching; skip to running the function.\u001b[0m\u001b[0;34m\u001b[0m\u001b[0;34m\u001b[0m\u001b[0m\n\u001b[0;32m-> 1745\u001b[0;31m       return self._build_call_outputs(self._inference_function.call(\n\u001b[0m\u001b[1;32m   1746\u001b[0m           ctx, args, cancellation_manager=cancellation_manager))\n\u001b[1;32m   1747\u001b[0m     forward_backward = self._select_forward_and_backward_functions(\n",
            "\u001b[0;32m/usr/local/lib/python3.9/dist-packages/tensorflow/python/eager/polymorphic_function/monomorphic_function.py\u001b[0m in \u001b[0;36mcall\u001b[0;34m(self, ctx, args, cancellation_manager)\u001b[0m\n\u001b[1;32m    376\u001b[0m       \u001b[0;32mwith\u001b[0m \u001b[0m_InterpolateFunctionError\u001b[0m\u001b[0;34m(\u001b[0m\u001b[0mself\u001b[0m\u001b[0;34m)\u001b[0m\u001b[0;34m:\u001b[0m\u001b[0;34m\u001b[0m\u001b[0;34m\u001b[0m\u001b[0m\n\u001b[1;32m    377\u001b[0m         \u001b[0;32mif\u001b[0m \u001b[0mcancellation_manager\u001b[0m \u001b[0;32mis\u001b[0m \u001b[0;32mNone\u001b[0m\u001b[0;34m:\u001b[0m\u001b[0;34m\u001b[0m\u001b[0;34m\u001b[0m\u001b[0m\n\u001b[0;32m--> 378\u001b[0;31m           outputs = execute.execute(\n\u001b[0m\u001b[1;32m    379\u001b[0m               \u001b[0mstr\u001b[0m\u001b[0;34m(\u001b[0m\u001b[0mself\u001b[0m\u001b[0;34m.\u001b[0m\u001b[0msignature\u001b[0m\u001b[0;34m.\u001b[0m\u001b[0mname\u001b[0m\u001b[0;34m)\u001b[0m\u001b[0;34m,\u001b[0m\u001b[0;34m\u001b[0m\u001b[0;34m\u001b[0m\u001b[0m\n\u001b[1;32m    380\u001b[0m               \u001b[0mnum_outputs\u001b[0m\u001b[0;34m=\u001b[0m\u001b[0mself\u001b[0m\u001b[0;34m.\u001b[0m\u001b[0m_num_outputs\u001b[0m\u001b[0;34m,\u001b[0m\u001b[0;34m\u001b[0m\u001b[0;34m\u001b[0m\u001b[0m\n",
            "\u001b[0;32m/usr/local/lib/python3.9/dist-packages/tensorflow/python/eager/execute.py\u001b[0m in \u001b[0;36mquick_execute\u001b[0;34m(op_name, num_outputs, inputs, attrs, ctx, name)\u001b[0m\n\u001b[1;32m     50\u001b[0m   \u001b[0;32mtry\u001b[0m\u001b[0;34m:\u001b[0m\u001b[0;34m\u001b[0m\u001b[0;34m\u001b[0m\u001b[0m\n\u001b[1;32m     51\u001b[0m     \u001b[0mctx\u001b[0m\u001b[0;34m.\u001b[0m\u001b[0mensure_initialized\u001b[0m\u001b[0;34m(\u001b[0m\u001b[0;34m)\u001b[0m\u001b[0;34m\u001b[0m\u001b[0;34m\u001b[0m\u001b[0m\n\u001b[0;32m---> 52\u001b[0;31m     tensors = pywrap_tfe.TFE_Py_Execute(ctx._handle, device_name, op_name,\n\u001b[0m\u001b[1;32m     53\u001b[0m                                         inputs, attrs, num_outputs)\n\u001b[1;32m     54\u001b[0m   \u001b[0;32mexcept\u001b[0m \u001b[0mcore\u001b[0m\u001b[0;34m.\u001b[0m\u001b[0m_NotOkStatusException\u001b[0m \u001b[0;32mas\u001b[0m \u001b[0me\u001b[0m\u001b[0;34m:\u001b[0m\u001b[0;34m\u001b[0m\u001b[0;34m\u001b[0m\u001b[0m\n",
            "\u001b[0;31mKeyboardInterrupt\u001b[0m: "
          ]
        }
      ]
    },
    {
      "cell_type": "code",
      "source": [
        "model.save(\"leaf_segmentation.h5\")"
      ],
      "metadata": {
        "id": "CdkyCDeas0WF"
      },
      "execution_count": null,
      "outputs": []
    },
    {
      "cell_type": "code",
      "source": [
        "for index,img in enumerate(prediction):\n",
        "  img=(img>=0.5)\n",
        "  img = img.astype(int)\n",
        "  img*=255\n",
        "  cv2_imshow(val[0][index])\n",
        "  cv2_imshow(img)"
      ],
      "metadata": {
        "id": "49IynfBhE8vU"
      },
      "execution_count": null,
      "outputs": []
    },
    {
      "cell_type": "code",
      "source": [
        "def load_model(path):\n",
        "  model=tf.keras.models.load_model(path,compile=False)\n",
        "  return model"
      ],
      "metadata": {
        "id": "zkdaoLmI8Ol-"
      },
      "execution_count": null,
      "outputs": []
    },
    {
      "cell_type": "code",
      "source": [
        "model=load_model(\"/content/drive/MyDrive/leaf_segmentation.h5\")"
      ],
      "metadata": {
        "id": "CQTt_DZR9Dlb"
      },
      "execution_count": null,
      "outputs": []
    },
    {
      "cell_type": "code",
      "source": [],
      "metadata": {
        "id": "gIid0VFY8oBB"
      },
      "execution_count": null,
      "outputs": []
    },
    {
      "cell_type": "code",
      "source": [
        "val2=[]\n",
        "for root,dir,files in os.walk(\"/content/drive/MyDrive/coffee_test_annotations/coffee_test_annotations/\"):\n",
        "  for file in files:\n",
        "    if file.split(\".\")[1]==\"jpg\":\n",
        "      path=os.path.join(\"/content/drive/MyDrive/coffee_test_annotations/coffee_test_annotations/\",file)\n",
        "\n",
        "      img=cv2.imread(path)\n",
        "      img = cv2.rotate(img, cv2.ROTATE_90_CLOCKWISE)\n",
        "      img=cv2.resize(img, (512, 256))\n",
        "      \n",
        "      val2.append(img)\n",
        "val2=np.array(val2)\n",
        "validation_2=preprocess_input1(val2)\n",
        "\n",
        "\n",
        "\n"
      ],
      "metadata": {
        "id": "eLKpGCIpJWBU"
      },
      "execution_count": null,
      "outputs": []
    },
    {
      "cell_type": "code",
      "source": [
        "val2.shape"
      ],
      "metadata": {
        "id": "iuwOXtfMWuhB"
      },
      "execution_count": null,
      "outputs": []
    },
    {
      "cell_type": "code",
      "source": [
        "prediction_2=model.predict(validation_2)"
      ],
      "metadata": {
        "id": "j9cUSblMVpUg"
      },
      "execution_count": null,
      "outputs": []
    },
    {
      "cell_type": "code",
      "source": [
        "def fill_contour(image):\n",
        "  contours, hierarchy = cv2.findContours(image, 4, 1)\n",
        "  points = np.concatenate((contours),)\n",
        "  points = contours[0]\n",
        "  for i in contours:\n",
        "    if(len(i) > len(points)): points = i\n",
        "\n",
        "  points = points + 1\n",
        "\n",
        "  filled_segmentation = np.zeros((image.shape[0], image.shape[1],3))\n",
        "  filled_segmentation = cv2.fillPoly(filled_segmentation, [np.int32(points)], [255,255,255])\n",
        "\n",
        "  cv2_imshow(filled_segmentation)\n"
      ],
      "metadata": {
        "id": "JawYqlQJJ2Oc"
      },
      "execution_count": null,
      "outputs": []
    },
    {
      "cell_type": "code",
      "source": [
        "for index,img in enumerate(prediction_2):\n",
        "  img=(img>=0.5)\n",
        "  img = img.astype(int)\n",
        "  img*=255\n",
        "  cv2_imshow(val2[index])\n",
        "  # cv2_imshow(img)\n",
        "  fill_contour(img)\n",
        "  "
      ],
      "metadata": {
        "id": "OJ_HNEvcWHc5"
      },
      "execution_count": null,
      "outputs": []
    }
  ]
}